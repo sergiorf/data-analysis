{
 "cells": [
  {
   "cell_type": "code",
   "execution_count": 5,
   "id": "ad9578b4-7723-44ff-84f4-695234edc9e8",
   "metadata": {},
   "outputs": [
    {
     "name": "stdout",
     "output_type": "stream",
     "text": [
      "       Year    population\n",
      "21211  1950  2.536275e+09\n",
      "21212  1951  2.583817e+09\n",
      "21213  1952  2.630585e+09\n",
      "21214  1953  2.677230e+09\n",
      "21215  1954  2.724303e+09\n",
      "21216  1955  2.772242e+09\n",
      "21217  1956  2.821383e+09\n",
      "21218  1957  2.871952e+09\n",
      "21219  1958  2.924081e+09\n",
      "21220  1959  2.977825e+09\n",
      "21221  1960  3.033212e+09\n",
      "21222  1961  3.090305e+09\n",
      "21223  1962  3.149244e+09\n",
      "21224  1963  3.210271e+09\n",
      "21225  1964  3.273671e+09\n",
      "       Year    population\n",
      "21263  2002  6.302150e+09\n",
      "21264  2003  6.381409e+09\n",
      "21265  2004  6.461371e+09\n",
      "21266  2005  6.542159e+09\n",
      "21267  2006  6.623848e+09\n",
      "21268  2007  6.706419e+09\n",
      "21269  2008  6.789771e+09\n",
      "21270  2009  6.873741e+09\n",
      "21271  2010  6.958169e+09\n",
      "21272  2011  7.043009e+09\n",
      "21273  2012  7.128177e+09\n",
      "21274  2013  7.213427e+09\n",
      "21275  2014  7.298453e+09\n",
      "21276  2015  7.383009e+09\n",
      "21277  2016  7.466964e+09\n"
     ]
    }
   ],
   "source": [
    "import pandas as pd\n",
    "\n",
    "pop = pd.read_csv(\"../data/Total population - Gapminder, UN Population Division.csv\")\n",
    "col_pop = \"Total population (Gapminder, UN Population Division)\"\n",
    "\n",
    "# Use only the \"World\" series\n",
    "world_pop = pop[pop[\"Entity\"]==\"World\"][[\"Year\", col_pop]].rename(columns={col_pop:\"population\"})\n",
    "\n",
    "print(world_pop.head(15))\n",
    "print(world_pop.tail(15))\n",
    "\n",
    "\n",
    "\n"
   ]
  },
  {
   "cell_type": "code",
   "execution_count": null,
   "id": "c4761ca7-249c-49c8-a8f4-74e0bdd1dc8b",
   "metadata": {},
   "outputs": [],
   "source": []
  }
 ],
 "metadata": {
  "kernelspec": {
   "display_name": "Python 3 (ipykernel)",
   "language": "python",
   "name": "python3"
  },
  "language_info": {
   "codemirror_mode": {
    "name": "ipython",
    "version": 3
   },
   "file_extension": ".py",
   "mimetype": "text/x-python",
   "name": "python",
   "nbconvert_exporter": "python",
   "pygments_lexer": "ipython3",
   "version": "3.13.5"
  }
 },
 "nbformat": 4,
 "nbformat_minor": 5
}
